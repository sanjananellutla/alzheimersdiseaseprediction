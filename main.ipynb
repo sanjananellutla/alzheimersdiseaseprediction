{
  "nbformat": 4,
  "nbformat_minor": 0,
  "metadata": {
    "colab": {
      "name": "main.ipynb",
      "provenance": [],
      "collapsed_sections": []
    },
    "kernelspec": {
      "name": "python3",
      "display_name": "Python 3"
    },
    "language_info": {
      "name": "python"
    }
  },
  "cells": [
    {
      "cell_type": "code",
      "metadata": {
        "id": "AkHasOOoI3LN"
      },
      "source": [
        "import numpy as np\n",
        "import pandas as pd"
      ],
      "execution_count": null,
      "outputs": []
    },
    {
      "cell_type": "code",
      "metadata": {
        "id": "nAxwjxZGI-yE"
      },
      "source": [
        "# Importing the data file\n",
        "\n",
        "filename = \"/content/ADNIMERGE.csv\"\n",
        "data = pd.read_csv(filename)"
      ],
      "execution_count": null,
      "outputs": []
    },
    {
      "cell_type": "code",
      "metadata": {
        "id": "0kq7JxG9gZwb"
      },
      "source": [
        "shape(data)"
      ],
      "execution_count": null,
      "outputs": []
    },
    {
      "cell_type": "code",
      "metadata": {
        "id": "baTZi9AJJBdo"
      },
      "source": [
        "# Dropping missing values from target class\n",
        "\n",
        "data = data.dropna(subset = ['DX_bl', 'DX'])"
      ],
      "execution_count": null,
      "outputs": []
    },
    {
      "cell_type": "code",
      "metadata": {
        "id": "Zogy-SVSJEd9"
      },
      "source": [
        "# Numerical columns\n",
        "\n",
        "norm = ['AGE', 'APOE4', 'FDG', 'PIB', 'AV45', 'ABETA', 'TAU', 'PTAU', 'CDRSB', 'ADAS11', 'ADAS13', 'ADASQ4',\n",
        "       'MMSE', 'RAVLT_immediate', 'RAVLT_learning', 'RAVLT_forgetting', 'RAVLT_perc_forgetting', 'LDELTOTAL', \n",
        "       'DIGITSCOR', 'TRABSCOR', 'FAQ', 'MOCA', 'EcogPtMem', 'EcogPtLang',\n",
        "       'EcogPtVisspat', 'EcogPtPlan', 'EcogPtOrgan', 'EcogPtDivatt',\n",
        "       'EcogPtTotal', 'EcogSPMem', 'EcogSPLang', 'EcogSPVisspat', 'EcogSPPlan',\n",
        "       'EcogSPOrgan', 'EcogSPDivatt', 'EcogSPTotal', 'IMAGEUID', 'Ventricles',\n",
        "       'Hippocampus', 'WholeBrain', 'Entorhinal', 'Fusiform', 'MidTemp', 'ICV', 'mPACCdigit', 'mPACCtrailsB',\n",
        "       'CDRSB_bl', 'ADAS11_bl', 'ADAS13_bl', 'ADASQ4_bl', 'MMSE_bl',\n",
        "       'RAVLT_immediate_bl', 'RAVLT_learning_bl', 'RAVLT_forgetting_bl',\n",
        "       'RAVLT_perc_forgetting_bl', 'LDELTOTAL_BL', 'DIGITSCOR_bl', 'TRABSCOR_bl', 'FAQ_bl',\n",
        "       'mPACCdigit_bl', 'mPACCtrailsB_bl', 'Ventricles_bl', 'Hippocampus_bl',\n",
        "       'WholeBrain_bl', 'Entorhinal_bl', 'Fusiform_bl', 'MidTemp_bl', 'ICV_bl',\n",
        "       'MOCA_bl', 'EcogPtMem_bl', 'EcogPtLang_bl', 'EcogPtVisspat_bl',\n",
        "       'EcogPtPlan_bl', 'EcogPtOrgan_bl', 'EcogPtDivatt_bl', 'EcogPtTotal_bl',\n",
        "       'EcogSPMem_bl', 'EcogSPLang_bl', 'EcogSPVisspat_bl', 'EcogSPPlan_bl',\n",
        "       'EcogSPOrgan_bl', 'EcogSPDivatt_bl', 'EcogSPTotal_bl', 'ABETA_bl',\n",
        "       'TAU_bl', 'PTAU_bl', 'FDG_bl', 'PIB_bl', 'AV45_bl', 'Years_bl',\n",
        "       'Month_bl', 'Month', 'M']"
      ],
      "execution_count": null,
      "outputs": []
    },
    {
      "cell_type": "code",
      "metadata": {
        "id": "T311SryQJFmu"
      },
      "source": [
        "from collections import OrderedDict\n",
        "\n",
        "# Mapping categorical features to numerical values (manual)\n",
        "\n",
        "data['DX'] = data['DX'].map({'CN' : 0, 'MCI' : 1, 'Dementia' : 2})"
      ],
      "execution_count": null,
      "outputs": []
    },
    {
      "cell_type": "code",
      "metadata": {
        "id": "Sk7PidN8JKGr"
      },
      "source": [
        "# Filling null values with mean value of RID groups\n",
        "\n",
        "data[norm] = data.groupby('RID')[norm].transform(lambda grp: grp.fillna(round(np.mean(grp),3)))"
      ],
      "execution_count": null,
      "outputs": []
    },
    {
      "cell_type": "code",
      "metadata": {
        "id": "3kCwJDm4JM4a"
      },
      "source": [
        "# Filling remaining null values with mean value of column\n",
        "\n",
        "data[norm] = data[norm].fillna(round(data[norm].mean(),3))    "
      ],
      "execution_count": null,
      "outputs": []
    },
    {
      "cell_type": "code",
      "metadata": {
        "id": "MiH9wvEyJQgL"
      },
      "source": [
        "from scipy.stats import zscore\n",
        "\n",
        "# Normalizing numerical columns\n",
        "\n",
        "data[norm] = zscore(data[norm])"
      ],
      "execution_count": null,
      "outputs": []
    },
    {
      "cell_type": "code",
      "metadata": {
        "id": "jUme65zTtK_W"
      },
      "source": [
        "data.isnull().sum()"
      ],
      "execution_count": null,
      "outputs": []
    },
    {
      "cell_type": "code",
      "metadata": {
        "id": "WwoSFxSLJTKs"
      },
      "source": [
        "from sklearn.model_selection import train_test_split\n",
        "\n",
        "# Splitting the data into training and testing datasets\n",
        "\n",
        "train_data, test_data = train_test_split(data, test_size = 0.20)"
      ],
      "execution_count": null,
      "outputs": []
    },
    {
      "cell_type": "code",
      "metadata": {
        "id": "v82uTTdyJV0L"
      },
      "source": [
        "# Encoding categorical columns of training data\n",
        "\n",
        "enc_train_data = pd.get_dummies(train_data, columns = ['PTGENDER', 'DX_bl', 'PTETHCAT', 'PTRACCAT', 'PTMARRY'])"
      ],
      "execution_count": null,
      "outputs": []
    },
    {
      "cell_type": "code",
      "metadata": {
        "id": "QSC2gYAjJYSB"
      },
      "source": [
        "# Encoding categorical columns of test data\n",
        "\n",
        "enc_test_data = pd.get_dummies(test_data, columns = ['PTGENDER', 'DX_bl', 'PTETHCAT', 'PTRACCAT', 'PTMARRY'])"
      ],
      "execution_count": null,
      "outputs": []
    },
    {
      "cell_type": "code",
      "metadata": {
        "id": "A-3LY1yNJfLN"
      },
      "source": [
        "cor_rel = enc_test_data.corr()\n",
        "\n",
        "#Correlation with output variable\n",
        "cor_rel_out = abs(cor_rel[['DX']])\n",
        "\n",
        "#Selecting highly correlated features\n",
        "rel_features = cor_rel_out[cor_rel_out>0.3]"
      ],
      "execution_count": null,
      "outputs": []
    },
    {
      "cell_type": "code",
      "metadata": {
        "id": "lCKePh6sJobh"
      },
      "source": [
        "X = enc_train_data[['DX_bl_AD', 'DX_bl_CN', 'CDRSB', 'MMSE',\n",
        "       'MOCA', 'FDG', 'ADAS11', 'ADAS13', 'ADASQ4', 'RAVLT_immediate', 'RAVLT_learning', 'RAVLT_perc_forgetting', 'LDELTOTAL',\n",
        "       'DIGITSCOR','TRABSCOR', 'FAQ', 'EcogSPMem', 'EcogSPLang', 'EcogSPVisspat', 'EcogSPPlan', 'EcogSPOrgan', \n",
        "       'EcogSPDivatt', 'EcogSPTotal', 'Hippocampus', 'Entorhinal', 'MidTemp', 'mPACCdigit', 'mPACCtrailsB', 'CDRSB_bl', 'ADAS11_bl', 'ADAS13_bl',\n",
        "       'ADASQ4_bl', 'MMSE_bl', 'RAVLT_immediate_bl', 'RAVLT_learning_bl', 'RAVLT_perc_forgetting_bl', 'LDELTOTAL_BL', 'DIGITSCOR_bl', 'TRABSCOR_bl', 'FAQ_bl',\n",
        "       'mPACCdigit_bl', 'mPACCtrailsB_bl', 'Hippocampus_bl', 'Entorhinal_bl', 'MOCA_bl', 'EcogSPMem_bl', 'EcogSPLang_bl', 'EcogSPPlan_bl', 'EcogSPDivatt_bl', 'EcogSPTotal_bl', 'FDG_bl']]\n",
        "Y = enc_train_data[['DX']]\n",
        "X1= enc_test_data[['DX_bl_AD', 'DX_bl_CN', 'CDRSB', 'MMSE',\n",
        "       'MOCA', 'FDG', 'ADAS11', 'ADAS13', 'ADASQ4', 'RAVLT_immediate', 'RAVLT_learning', 'RAVLT_perc_forgetting', 'LDELTOTAL',\n",
        "       'DIGITSCOR','TRABSCOR', 'FAQ', 'EcogSPMem', 'EcogSPLang', 'EcogSPVisspat', 'EcogSPPlan', 'EcogSPOrgan', \n",
        "       'EcogSPDivatt', 'EcogSPTotal', 'Hippocampus', 'Entorhinal', 'MidTemp', 'mPACCdigit', 'mPACCtrailsB', 'CDRSB_bl', 'ADAS11_bl', 'ADAS13_bl',\n",
        "       'ADASQ4_bl', 'MMSE_bl', 'RAVLT_immediate_bl', 'RAVLT_learning_bl', 'RAVLT_perc_forgetting_bl', 'LDELTOTAL_BL', 'DIGITSCOR_bl', 'TRABSCOR_bl', 'FAQ_bl',\n",
        "       'mPACCdigit_bl', 'mPACCtrailsB_bl', 'Hippocampus_bl', 'Entorhinal_bl', 'MOCA_bl', 'EcogSPMem_bl', 'EcogSPLang_bl', 'EcogSPPlan_bl', 'EcogSPDivatt_bl', 'EcogSPTotal_bl', 'FDG_bl']]\n",
        "Y1 = enc_test_data[['DX']]\n",
        "Y = np.ravel(Y)"
      ],
      "execution_count": null,
      "outputs": []
    },
    {
      "cell_type": "code",
      "metadata": {
        "colab": {
          "base_uri": "https://localhost:8080/"
        },
        "id": "uN2de9dAJsxu",
        "outputId": "a819735e-f5bd-46e8-db4e-6decbbc98d0f"
      },
      "source": [
        "from sklearn.ensemble import RandomForestClassifier\n",
        "\n",
        "# Applying Random Forest Classifier and printing the accuracy\n",
        "\n",
        "forest = RandomForestClassifier(n_estimators=50, max_depth = 10, criterion = \"entropy\")\n",
        "forest = forest.fit(X,Y)\n",
        "print('Random Forest score = {:.2f}'.format(forest.score(X1, Y1)*100))"
      ],
      "execution_count": null,
      "outputs": [
        {
          "output_type": "stream",
          "text": [
            "Random Forest score = 91.32\n"
          ],
          "name": "stdout"
        }
      ]
    },
    {
      "cell_type": "code",
      "metadata": {
        "id": "1Q6GKPb3JwUt"
      },
      "source": [
        "import matplotlib.pyplot as plt\n",
        "from sklearn.metrics import confusion_matrix\n",
        "\n",
        "# Defining Confusion Matrix \n",
        "\n",
        "def plot_confusion_matrix(cm, names, title='Confusion matrix', cmap=plt.cm.Blues):\n",
        "    plt.imshow(cm, interpolation='nearest', cmap=cmap)\n",
        "    plt.title(title)\n",
        "    plt.colorbar()\n",
        "    plt.ylabel('True label')\n",
        "    plt.xlabel('Predicted label')\n",
        "    tick_marks = np.arange(len(names))\n",
        "    plt.xticks(tick_marks, names, rotation=45)\n",
        "    plt.yticks(tick_marks, names)\n",
        "    plt.tight_layout()"
      ],
      "execution_count": null,
      "outputs": []
    },
    {
      "cell_type": "code",
      "metadata": {
        "colab": {
          "base_uri": "https://localhost:8080/",
          "height": 280
        },
        "id": "8_TqBXL7JzlR",
        "outputId": "15bf3d11-e90c-41da-b92e-09d8e1f5fcfc"
      },
      "source": [
        "# Plotting Confusion Matrix for Random Forest Classifier\n",
        "\n",
        "y_pred=forest.predict(X1)\n",
        "\n",
        "cm = confusion_matrix(Y1, y_pred)\n",
        "plt.figure(figsize=(30,30))\n",
        "plt.matshow(cm)\n",
        "plt.title('Confusion matrix')\n",
        "plt.colorbar()\n",
        "plt.ylabel('True label')\n",
        "plt.xlabel('Predicted label')\n",
        "plt.tick_params(labelbottom = True, labeltop = False)\n",
        "plt.title('Random Forest Confusion Matrix', color = 'white', backgroundcolor = 'black', fontsize = 10)\n",
        "plt.show()"
      ],
      "execution_count": null,
      "outputs": [
        {
          "output_type": "display_data",
          "data": {
            "text/plain": [
              "<Figure size 2160x2160 with 0 Axes>"
            ]
          },
          "metadata": {
            "tags": []
          }
        },
        {
          "output_type": "display_data",
          "data": {
            "image/png": "[encoded data removed]",
            "text/plain": [
              "<Figure size 288x288 with 2 Axes>"
            ]
          },
          "metadata": {
            "tags": [],
            "needs_background": "light"
          }
        }
      ]
    },
    {
      "cell_type": "code",
      "metadata": {
        "colab": {
          "base_uri": "https://localhost:8080/"
        },
        "id": "PzzwpZDjJ9QX",
        "outputId": "5c5067c9-2c7a-49d5-b6c2-c5f193dc8e13"
      },
      "source": [
        "from sklearn import svm\n",
        "\n",
        "# Applying SVM with radial (RBF) kernel and printing the accuracy\n",
        "sup = svm.SVC(C = 1, kernel = 'rbf', gamma = 0.001, decision_function_shape= 'ovo')\n",
        "sup.fit(X,Y)\n",
        "print('SVM score = {:.2f}'.format(sup.score(X1, Y1)*100))"
      ],
      "execution_count": null,
      "outputs": [
        {
          "output_type": "stream",
          "text": [
            "SVM score = 87.87\n"
          ],
          "name": "stdout"
        }
      ]
    },
    {
      "cell_type": "code",
      "metadata": {
        "colab": {
          "base_uri": "https://localhost:8080/",
          "height": 280
        },
        "id": "GkYMmpaVKBQr",
        "outputId": "7af6e269-6eba-4d28-fe01-db6cd7a97def"
      },
      "source": [
        "# Plotting Confusion Matrix for Support Vector Machine Classifier\n",
        "\n",
        "y_pred=sup.predict(X1)\n",
        "\n",
        "cm = confusion_matrix(Y1, y_pred)\n",
        "plt.figure(figsize=(10,10))\n",
        "plt.matshow(cm)\n",
        "plt.title('Confusion matrix')\n",
        "plt.colorbar()\n",
        "plt.ylabel('True label')\n",
        "plt.xlabel('Predicted label')\n",
        "plt.tick_params(labelbottom = True, labeltop = False)\n",
        "plt.title('SVM Confusion Matrix', color = 'white', backgroundcolor = 'black', fontsize = 10)\n",
        "plt.show()"
      ],
      "execution_count": null,
      "outputs": [
        {
          "output_type": "display_data",
          "data": {
            "text/plain": [
              "<Figure size 720x720 with 0 Axes>"
            ]
          },
          "metadata": {
            "tags": []
          }
        },
        {
          "output_type": "display_data",
          "data": {
            "image/png": "[encoded data removed]",
            "text/plain": [
              "<Figure size 288x288 with 2 Axes>"
            ]
          },
          "metadata": {
            "tags": [],
            "needs_background": "light"
          }
        }
      ]
    },
    {
      "cell_type": "code",
      "metadata": {
        "colab": {
          "base_uri": "https://localhost:8080/"
        },
        "id": "wnmH0cr_KJUe",
        "outputId": "72940e16-bfa0-4c12-a4c3-5a66516e5d52"
      },
      "source": [
        "from sklearn.linear_model import LogisticRegression\n",
        "\n",
        "# Applying Logistic Regression Classifier and printing the accuracy\n",
        "\n",
        "logreg = LogisticRegression(max_iter = 1050)\n",
        "logreg.fit(X, Y) \n",
        "print('Logistic Regression score = {:.2f}'.format(logreg.score(X1, Y1)*100))"
      ],
      "execution_count": null,
      "outputs": [
        {
          "output_type": "stream",
          "text": [
            "Logistic Regression score = 91.28\n"
          ],
          "name": "stdout"
        }
      ]
    },
    {
      "cell_type": "code",
      "metadata": {
        "colab": {
          "base_uri": "https://localhost:8080/",
          "height": 280
        },
        "id": "x5FdHth7KMIC",
        "outputId": "33ae9436-e9aa-4d6f-e82b-1f016b480227"
      },
      "source": [
        "# Plotting Confusion Matrix for Logistic Regression Classifier\n",
        "\n",
        "y_pred=logreg.predict(X1)\n",
        "\n",
        "cm = confusion_matrix(Y1, y_pred)\n",
        "plt.figure(figsize=(10,10))\n",
        "plt.matshow(cm)\n",
        "plt.title('Confusion matrix')\n",
        "plt.colorbar()\n",
        "plt.ylabel('True label')\n",
        "plt.xlabel('Predicted label')\n",
        "plt.tick_params(labelbottom = True, labeltop = False)\n",
        "plt.title('Logistic Regression Confusion Matrix', color = 'white', backgroundcolor = 'black', fontsize = 10)\n",
        "plt.show()"
      ],
      "execution_count": null,
      "outputs": [
        {
          "output_type": "display_data",
          "data": {
            "text/plain": [
              "<Figure size 720x720 with 0 Axes>"
            ]
          },
          "metadata": {
            "tags": []
          }
        },
        {
          "output_type": "display_data",
          "data": {
            "image/png": "[encoded data removed]",
            "text/plain": [
              "<Figure size 288x288 with 2 Axes>"
            ]
          },
          "metadata": {
            "tags": [],
            "needs_background": "light"
          }
        }
      ]
    },
    {
      "cell_type": "code",
      "metadata": {
        "colab": {
          "base_uri": "https://localhost:8080/"
        },
        "id": "app-DSK0KUeo",
        "outputId": "bc6d9a39-4681-4026-9a6b-0dadbe5e5ca4"
      },
      "source": [
        "from sklearn.neighbors import KNeighborsClassifier\n",
        "\n",
        "# Applying K-Nearest Neighbors Classifier and printing the accuracy\n",
        "\n",
        "neigh = KNeighborsClassifier(n_neighbors=3)\n",
        "neigh.fit(X, Y)\n",
        "print('K-Nearest Neighbors score = {:.2f}'.format(neigh.score(X1, Y1)*100))"
      ],
      "execution_count": null,
      "outputs": [
        {
          "output_type": "stream",
          "text": [
            "K-Nearest Neighbors score = 87.92\n"
          ],
          "name": "stdout"
        }
      ]
    },
    {
      "cell_type": "code",
      "metadata": {
        "colab": {
          "base_uri": "https://localhost:8080/",
          "height": 280
        },
        "id": "UeyM1AcwKYN3",
        "outputId": "5bb8f8a4-bc89-4307-cdf5-06dcdab2ab82"
      },
      "source": [
        "# Plotting Confusion Matrix for K-Nearest Neighbors Classifier\n",
        "\n",
        "y_pred=neigh.predict(X1)\n",
        "\n",
        "cm = confusion_matrix(Y1, y_pred)\n",
        "plt.figure(figsize=(10,10))\n",
        "plt.matshow(cm)\n",
        "plt.title('Confusion matrix')\n",
        "plt.colorbar()\n",
        "plt.ylabel('True label')\n",
        "plt.xlabel('Predicted label')\n",
        "plt.tick_params(labelbottom = True, labeltop = False)\n",
        "plt.title('K-Nearest Neighbors Confusion Matrix', color = 'white', backgroundcolor = 'black', fontsize = 10)\n",
        "plt.show()"
      ],
      "execution_count": null,
      "outputs": [
        {
          "output_type": "display_data",
          "data": {
            "text/plain": [
              "<Figure size 720x720 with 0 Axes>"
            ]
          },
          "metadata": {
            "tags": []
          }
        },
        {
          "output_type": "display_data",
          "data": {
            "image/png": "[encoded data removed]",
            "text/plain": [
              "<Figure size 288x288 with 2 Axes>"
            ]
          },
          "metadata": {
            "tags": [],
            "needs_background": "light"
          }
        }
      ]
    },
    {
      "cell_type": "code",
      "metadata": {
        "id": "FCPcaimEPrQM"
      },
      "source": [
        "# Collecting accuracy of all algorithms into one dictionary\n",
        "\n",
        "accuracies = {'Random Forest' : round(forest.score(X1, Y1) * 100, 2),\n",
        "              'SVM' : round(sup.score(X1, Y1) * 100, 2),\n",
        "              'Logistic Regression' : round(logreg.score(X1, Y1) * 100, 2),\n",
        "              'KNN' : round(neigh.score(X1,Y1) * 100, 2)}"
      ],
      "execution_count": null,
      "outputs": []
    },
    {
      "cell_type": "code",
      "metadata": {
        "id": "6LdGVlawUDTt",
        "colab": {
          "base_uri": "https://localhost:8080/",
          "height": 293
        },
        "outputId": "b9dafc67-5723-4554-b92f-29c1fe6d79a1"
      },
      "source": [
        "# Plotting accuracies of all algorithms as a bar graph\n",
        "\n",
        "plt.bar(accuracies.keys(), height = accuracies.values(), color = 'purple', width = 0.5)\n",
        "plt.ylabel('Percentage of accuracy')\n",
        "plt.xlabel('Algorithm')\n",
        "plt.ylim(85,95)\n",
        "plt.title('Accuracy Summary', color = 'white', backgroundcolor = 'black', fontsize = 10)\n",
        "plt.show()"
      ],
      "execution_count": null,
      "outputs": [
        {
          "output_type": "display_data",
          "data": {
            "image/png": "[encoded data removed]",
            "text/plain": [
              "<Figure size 432x288 with 1 Axes>"
            ]
          },
          "metadata": {
            "tags": [],
            "needs_background": "light"
          }
        }
      ]
    }
  ]
}